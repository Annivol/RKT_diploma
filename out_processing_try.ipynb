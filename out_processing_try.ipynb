{
 "cells": [
  {
   "cell_type": "code",
   "execution_count": 1,
   "id": "287e3ad6-fccf-4a01-8a3a-df93e0e7fc1d",
   "metadata": {
    "tags": []
   },
   "outputs": [],
   "source": [
    "import pandas as pd"
   ]
  },
  {
   "cell_type": "code",
   "execution_count": 2,
   "id": "a6b3c061-36c4-47cc-8d98-c4171deba512",
   "metadata": {
    "tags": []
   },
   "outputs": [
    {
     "data": {
      "text/html": [
       "<div>\n",
       "<style scoped>\n",
       "    .dataframe tbody tr th:only-of-type {\n",
       "        vertical-align: middle;\n",
       "    }\n",
       "\n",
       "    .dataframe tbody tr th {\n",
       "        vertical-align: top;\n",
       "    }\n",
       "\n",
       "    .dataframe thead th {\n",
       "        text-align: right;\n",
       "    }\n",
       "</style>\n",
       "<table border=\"1\" class=\"dataframe\">\n",
       "  <thead>\n",
       "    <tr style=\"text-align: right;\">\n",
       "      <th></th>\n",
       "      <th>uid</th>\n",
       "      <th>name</th>\n",
       "      <th>category1_name</th>\n",
       "      <th>category2_name</th>\n",
       "      <th>category3_name</th>\n",
       "      <th>category4_name</th>\n",
       "      <th>nn_clusters_relu</th>\n",
       "    </tr>\n",
       "  </thead>\n",
       "  <tbody>\n",
       "    <tr>\n",
       "      <th>0</th>\n",
       "      <td>00e7d508-7577-11e9-80ca-901b0e95a2a8</td>\n",
       "      <td>Тент ENO ProFly XL Sil Lichen</td>\n",
       "      <td>Палатки</td>\n",
       "      <td>Тенты и противомоскитные пологи</td>\n",
       "      <td>NaN</td>\n",
       "      <td>NaN</td>\n",
       "      <td>107</td>\n",
       "    </tr>\n",
       "    <tr>\n",
       "      <th>1</th>\n",
       "      <td>00e7d508-7577-11e9-80ca-901b0e95a2a8</td>\n",
       "      <td>Тент ENO ProFly XL Sil Lichen</td>\n",
       "      <td>Палатки</td>\n",
       "      <td>Тенты и противомоскитные пологи</td>\n",
       "      <td>NaN</td>\n",
       "      <td>NaN</td>\n",
       "      <td>107</td>\n",
       "    </tr>\n",
       "    <tr>\n",
       "      <th>2</th>\n",
       "      <td>00e7d508-7577-11e9-80ca-901b0e95a2a8</td>\n",
       "      <td>Тент ENO ProFly XL Sil Lichen</td>\n",
       "      <td>Палатки</td>\n",
       "      <td>Тенты и противомоскитные пологи</td>\n",
       "      <td>NaN</td>\n",
       "      <td>NaN</td>\n",
       "      <td>107</td>\n",
       "    </tr>\n",
       "    <tr>\n",
       "      <th>3</th>\n",
       "      <td>00e7d508-7577-11e9-80ca-901b0e95a2a8</td>\n",
       "      <td>Тент ENO ProFly XL Sil Lichen</td>\n",
       "      <td>Палатки</td>\n",
       "      <td>Тенты и противомоскитные пологи</td>\n",
       "      <td>NaN</td>\n",
       "      <td>NaN</td>\n",
       "      <td>107</td>\n",
       "    </tr>\n",
       "    <tr>\n",
       "      <th>4</th>\n",
       "      <td>00e7d508-7577-11e9-80ca-901b0e95a2a8</td>\n",
       "      <td>Тент ENO ProFly XL Sil Lichen</td>\n",
       "      <td>Палатки</td>\n",
       "      <td>Тенты и противомоскитные пологи</td>\n",
       "      <td>NaN</td>\n",
       "      <td>NaN</td>\n",
       "      <td>107</td>\n",
       "    </tr>\n",
       "  </tbody>\n",
       "</table>\n",
       "</div>"
      ],
      "text/plain": [
       "                                    uid                           name  \\\n",
       "0  00e7d508-7577-11e9-80ca-901b0e95a2a8  Тент ENO ProFly XL Sil Lichen   \n",
       "1  00e7d508-7577-11e9-80ca-901b0e95a2a8  Тент ENO ProFly XL Sil Lichen   \n",
       "2  00e7d508-7577-11e9-80ca-901b0e95a2a8  Тент ENO ProFly XL Sil Lichen   \n",
       "3  00e7d508-7577-11e9-80ca-901b0e95a2a8  Тент ENO ProFly XL Sil Lichen   \n",
       "4  00e7d508-7577-11e9-80ca-901b0e95a2a8  Тент ENO ProFly XL Sil Lichen   \n",
       "\n",
       "  category1_name                   category2_name category3_name  \\\n",
       "0        Палатки  Тенты и противомоскитные пологи            NaN   \n",
       "1        Палатки  Тенты и противомоскитные пологи            NaN   \n",
       "2        Палатки  Тенты и противомоскитные пологи            NaN   \n",
       "3        Палатки  Тенты и противомоскитные пологи            NaN   \n",
       "4        Палатки  Тенты и противомоскитные пологи            NaN   \n",
       "\n",
       "  category4_name  nn_clusters_relu  \n",
       "0            NaN               107  \n",
       "1            NaN               107  \n",
       "2            NaN               107  \n",
       "3            NaN               107  \n",
       "4            NaN               107  "
      ]
     },
     "execution_count": 2,
     "metadata": {},
     "output_type": "execute_result"
    }
   ],
   "source": [
    "df = pd.read_csv('biv_clustered.csv', encoding='cp1251', sep=',', low_memory=False)\n",
    "pd.set_option('display.max_columns', None)\n",
    "df.drop('Unnamed: 0', axis= 1 , inplace= True )\n",
    "df.head(5)"
   ]
  },
  {
   "cell_type": "code",
   "execution_count": 3,
   "id": "43315677-1fe6-4950-a71c-ca099aa382e0",
   "metadata": {
    "tags": []
   },
   "outputs": [],
   "source": [
    "# Группировка данных по кластерам\n",
    "cluster_groups = df.groupby('nn_clusters_relu')['uid'].apply(list).reset_index()"
   ]
  },
  {
   "cell_type": "code",
   "execution_count": 4,
   "id": "cf48f012-f8e5-4ff4-bdc4-4384555ab6ff",
   "metadata": {
    "tags": []
   },
   "outputs": [
    {
     "data": {
      "text/html": [
       "<div>\n",
       "<style scoped>\n",
       "    .dataframe tbody tr th:only-of-type {\n",
       "        vertical-align: middle;\n",
       "    }\n",
       "\n",
       "    .dataframe tbody tr th {\n",
       "        vertical-align: top;\n",
       "    }\n",
       "\n",
       "    .dataframe thead th {\n",
       "        text-align: right;\n",
       "    }\n",
       "</style>\n",
       "<table border=\"1\" class=\"dataframe\">\n",
       "  <thead>\n",
       "    <tr style=\"text-align: right;\">\n",
       "      <th></th>\n",
       "      <th>nn_clusters_relu</th>\n",
       "      <th>uid</th>\n",
       "    </tr>\n",
       "  </thead>\n",
       "  <tbody>\n",
       "    <tr>\n",
       "      <th>0</th>\n",
       "      <td>0</td>\n",
       "      <td>[04cf8541-e440-11ed-85da-b42e99c9b482, 0205796...</td>\n",
       "    </tr>\n",
       "    <tr>\n",
       "      <th>1</th>\n",
       "      <td>1</td>\n",
       "      <td>[0746b54f-53c4-11ee-85da-b42e99c9b482, 01bb239...</td>\n",
       "    </tr>\n",
       "    <tr>\n",
       "      <th>2</th>\n",
       "      <td>2</td>\n",
       "      <td>[02097220-b0f1-11ec-85d9-b42e99c9b482, 08084ff...</td>\n",
       "    </tr>\n",
       "    <tr>\n",
       "      <th>3</th>\n",
       "      <td>3</td>\n",
       "      <td>[0d43ef1f-cc93-11ed-85da-b42e99c9b482, 0d43ef1...</td>\n",
       "    </tr>\n",
       "    <tr>\n",
       "      <th>4</th>\n",
       "      <td>4</td>\n",
       "      <td>[17f5a3ac-d3fd-11eb-80cc-901b0e95a2a8, 17f5a3a...</td>\n",
       "    </tr>\n",
       "    <tr>\n",
       "      <th>...</th>\n",
       "      <td>...</td>\n",
       "      <td>...</td>\n",
       "    </tr>\n",
       "    <tr>\n",
       "      <th>213</th>\n",
       "      <td>382</td>\n",
       "      <td>[03238f50-7091-11ed-85da-b42e99c9b482, 0a6e05e...</td>\n",
       "    </tr>\n",
       "    <tr>\n",
       "      <th>214</th>\n",
       "      <td>383</td>\n",
       "      <td>[03238f66-7091-11ed-85da-b42e99c9b482, 03238f6...</td>\n",
       "    </tr>\n",
       "    <tr>\n",
       "      <th>215</th>\n",
       "      <td>389</td>\n",
       "      <td>[0205796c-ae0d-11ed-85da-b42e99c9b482, 0205796...</td>\n",
       "    </tr>\n",
       "    <tr>\n",
       "      <th>216</th>\n",
       "      <td>393</td>\n",
       "      <td>[03238f5a-7091-11ed-85da-b42e99c9b482, 03238f5...</td>\n",
       "    </tr>\n",
       "    <tr>\n",
       "      <th>217</th>\n",
       "      <td>396</td>\n",
       "      <td>[04a81ce8-18b0-11ed-85da-b42e99c9b482, 04a81ce...</td>\n",
       "    </tr>\n",
       "  </tbody>\n",
       "</table>\n",
       "<p>218 rows × 2 columns</p>\n",
       "</div>"
      ],
      "text/plain": [
       "     nn_clusters_relu                                                uid\n",
       "0                   0  [04cf8541-e440-11ed-85da-b42e99c9b482, 0205796...\n",
       "1                   1  [0746b54f-53c4-11ee-85da-b42e99c9b482, 01bb239...\n",
       "2                   2  [02097220-b0f1-11ec-85d9-b42e99c9b482, 08084ff...\n",
       "3                   3  [0d43ef1f-cc93-11ed-85da-b42e99c9b482, 0d43ef1...\n",
       "4                   4  [17f5a3ac-d3fd-11eb-80cc-901b0e95a2a8, 17f5a3a...\n",
       "..                ...                                                ...\n",
       "213               382  [03238f50-7091-11ed-85da-b42e99c9b482, 0a6e05e...\n",
       "214               383  [03238f66-7091-11ed-85da-b42e99c9b482, 03238f6...\n",
       "215               389  [0205796c-ae0d-11ed-85da-b42e99c9b482, 0205796...\n",
       "216               393  [03238f5a-7091-11ed-85da-b42e99c9b482, 03238f5...\n",
       "217               396  [04a81ce8-18b0-11ed-85da-b42e99c9b482, 04a81ce...\n",
       "\n",
       "[218 rows x 2 columns]"
      ]
     },
     "execution_count": 4,
     "metadata": {},
     "output_type": "execute_result"
    }
   ],
   "source": [
    "cluster_groups"
   ]
  },
  {
   "cell_type": "code",
   "execution_count": 5,
   "id": "3d00e332-cba9-4e0e-8cf9-2c95cf7af409",
   "metadata": {
    "tags": []
   },
   "outputs": [],
   "source": [
    "# Создание словаря с соответствием ID товара и списком товаров в одном кластере\n",
    "product_clusters = {}\n",
    "for _, row in cluster_groups.iterrows():\n",
    "    cluster_id = row['nn_clusters_relu']\n",
    "    product_ids = row['uid']\n",
    "    for product_id in product_ids:\n",
    "        if product_id not in product_clusters:\n",
    "            product_clusters[product_id] = []\n",
    "        for pid in product_ids:\n",
    "            if pid != product_id and pid not in product_clusters[product_id]:\n",
    "                product_clusters[product_id].append(pid)\n"
   ]
  },
  {
   "cell_type": "code",
   "execution_count": 6,
   "id": "8d326948-a475-4d54-9f24-b9f1814093f7",
   "metadata": {
    "tags": []
   },
   "outputs": [
    {
     "data": {
      "text/plain": [
       "{'encoding': 'windows-1251',\n",
       " 'confidence': 0.9225080522655392,\n",
       " 'language': 'Russian'}"
      ]
     },
     "execution_count": 6,
     "metadata": {},
     "output_type": "execute_result"
    }
   ],
   "source": [
    "import chardet\n",
    "file = 'разметка без стат.csv'\n",
    "with open(file, 'rb') as rawdata:\n",
    "    result = chardet.detect(rawdata.read(100000))\n",
    "result"
   ]
  },
  {
   "cell_type": "code",
   "execution_count": 12,
   "id": "0e9d3e3b-e7f6-4c9a-a9c4-61345fd5c517",
   "metadata": {
    "tags": []
   },
   "outputs": [
    {
     "data": {
      "text/html": [
       "<div>\n",
       "<style scoped>\n",
       "    .dataframe tbody tr th:only-of-type {\n",
       "        vertical-align: middle;\n",
       "    }\n",
       "\n",
       "    .dataframe tbody tr th {\n",
       "        vertical-align: top;\n",
       "    }\n",
       "\n",
       "    .dataframe thead th {\n",
       "        text-align: right;\n",
       "    }\n",
       "</style>\n",
       "<table border=\"1\" class=\"dataframe\">\n",
       "  <thead>\n",
       "    <tr style=\"text-align: right;\">\n",
       "      <th></th>\n",
       "      <th>target_cat2_name</th>\n",
       "      <th>add1</th>\n",
       "      <th>add2</th>\n",
       "      <th>add3</th>\n",
       "      <th>add4</th>\n",
       "      <th>add5</th>\n",
       "      <th>add6</th>\n",
       "      <th>add7</th>\n",
       "      <th>add8</th>\n",
       "    </tr>\n",
       "  </thead>\n",
       "  <tbody>\n",
       "    <tr>\n",
       "      <th>0</th>\n",
       "      <td>Туристические газовые горелки</td>\n",
       "      <td>Газовые баллоны</td>\n",
       "      <td>Чайники и кофеварки</td>\n",
       "      <td>Наборы туристической посуды</td>\n",
       "      <td>Сковороды</td>\n",
       "      <td>Аксессуары к горелкам и лампам</td>\n",
       "      <td>Туристические палатки</td>\n",
       "      <td>Туристические рюкзаки</td>\n",
       "      <td>Туристические спальные мешки</td>\n",
       "    </tr>\n",
       "    <tr>\n",
       "      <th>1</th>\n",
       "      <td>Газовые баллоны</td>\n",
       "      <td>Туристические газовые горелки</td>\n",
       "      <td>Наборы туристической посуды</td>\n",
       "      <td>Туристические палатки</td>\n",
       "      <td>Туристические рюкзаки</td>\n",
       "      <td>Туристические спальные мешки</td>\n",
       "      <td>Миски</td>\n",
       "      <td>Чашки</td>\n",
       "      <td>Вилки и ложки</td>\n",
       "    </tr>\n",
       "    <tr>\n",
       "      <th>2</th>\n",
       "      <td>Аксессуары к горелкам и лампам</td>\n",
       "      <td>Туристические газовые горелки</td>\n",
       "      <td>Наборы туристической посуды</td>\n",
       "      <td>Туристические фонари</td>\n",
       "      <td>Туристические рюкзаки</td>\n",
       "      <td>Кухонные принадлежности</td>\n",
       "      <td>Миски</td>\n",
       "      <td>Чашки</td>\n",
       "      <td>Вилки и ложки</td>\n",
       "    </tr>\n",
       "    <tr>\n",
       "      <th>3</th>\n",
       "      <td>Жидкотопливные и мультитопливные горелки</td>\n",
       "      <td>Наборы туристической посуды</td>\n",
       "      <td>Чайники и кофеварки</td>\n",
       "      <td>Сковороды</td>\n",
       "      <td>Кухонные принадлежности</td>\n",
       "      <td>Аксессуары к горелкам и лампам</td>\n",
       "      <td>Экстремальные спальные мешки</td>\n",
       "      <td>Экстремальные палатки</td>\n",
       "      <td>Утепленная одежда</td>\n",
       "    </tr>\n",
       "    <tr>\n",
       "      <th>4</th>\n",
       "      <td>Газовые плиты</td>\n",
       "      <td>Газовые баллоны</td>\n",
       "      <td>Наборы туристической посуды</td>\n",
       "      <td>Сковороды</td>\n",
       "      <td>Кухонные принадлежности</td>\n",
       "      <td>Кемпинговые палатки</td>\n",
       "      <td>Столы для кемпинга</td>\n",
       "      <td>Стулья и кресла для кемпинга</td>\n",
       "      <td>Туристические фонари</td>\n",
       "    </tr>\n",
       "  </tbody>\n",
       "</table>\n",
       "</div>"
      ],
      "text/plain": [
       "                           target_cat2_name                           add1  \\\n",
       "0             Туристические газовые горелки                Газовые баллоны   \n",
       "1                           Газовые баллоны  Туристические газовые горелки   \n",
       "2            Аксессуары к горелкам и лампам  Туристические газовые горелки   \n",
       "3  Жидкотопливные и мультитопливные горелки    Наборы туристической посуды   \n",
       "4                             Газовые плиты                Газовые баллоны   \n",
       "\n",
       "                          add2                         add3  \\\n",
       "0          Чайники и кофеварки  Наборы туристической посуды   \n",
       "1  Наборы туристической посуды        Туристические палатки   \n",
       "2  Наборы туристической посуды         Туристические фонари   \n",
       "3          Чайники и кофеварки                    Сковороды   \n",
       "4  Наборы туристической посуды                    Сковороды   \n",
       "\n",
       "                      add4                            add5  \\\n",
       "0                Сковороды  Аксессуары к горелкам и лампам   \n",
       "1    Туристические рюкзаки    Туристические спальные мешки   \n",
       "2    Туристические рюкзаки         Кухонные принадлежности   \n",
       "3  Кухонные принадлежности  Аксессуары к горелкам и лампам   \n",
       "4  Кухонные принадлежности             Кемпинговые палатки   \n",
       "\n",
       "                           add6                          add7  \\\n",
       "0         Туристические палатки         Туристические рюкзаки   \n",
       "1                         Миски                         Чашки   \n",
       "2                         Миски                         Чашки   \n",
       "3  Экстремальные спальные мешки         Экстремальные палатки   \n",
       "4            Столы для кемпинга  Стулья и кресла для кемпинга   \n",
       "\n",
       "                           add8  \n",
       "0  Туристические спальные мешки  \n",
       "1                 Вилки и ложки  \n",
       "2                 Вилки и ложки  \n",
       "3             Утепленная одежда  \n",
       "4          Туристические фонари  "
      ]
     },
     "execution_count": 12,
     "metadata": {},
     "output_type": "execute_result"
    }
   ],
   "source": [
    "df_markup = pd.read_csv('разметка без стат.csv', encoding='cp1251', sep=',', low_memory=False)\n",
    "pd.set_option('display.max_columns', None)\n",
    "df_markup.drop('Unnamed: 0', axis= 1 , inplace= True )\n",
    "df_markup.head(5)"
   ]
  },
  {
   "cell_type": "code",
   "execution_count": 13,
   "id": "c5ddddb9-edd5-4cfd-b503-4ffa633d68d5",
   "metadata": {
    "tags": []
   },
   "outputs": [],
   "source": [
    "# Создаем словарь по разметке\n",
    "murkup_dict = {}\n",
    "for index, row in df_markup.iterrows():\n",
    "    key = row['target_cat2_name']\n",
    "    values = row.drop('target_cat2_name').tolist()\n",
    "    murkup_dict[key] = values"
   ]
  },
  {
   "cell_type": "code",
   "execution_count": 15,
   "id": "1830979a-c225-482f-b781-1f11888bfd1b",
   "metadata": {
    "tags": []
   },
   "outputs": [],
   "source": [
    "# murkup_dict"
   ]
  },
  {
   "cell_type": "code",
   "execution_count": 17,
   "id": "75eccc1e-5ff2-4f55-bca7-4515c95ce6b8",
   "metadata": {
    "tags": []
   },
   "outputs": [
    {
     "data": {
      "text/plain": [
       "['Туристические газовые горелки',\n",
       " 'Газовые баллоны',\n",
       " 'Аксессуары к горелкам и лампам',\n",
       " 'Жидкотопливные и мультитопливные горелки',\n",
       " 'Газовые плиты',\n",
       " 'Газовые и бензиновые лампы',\n",
       " 'Наборы мебели',\n",
       " 'Шезлонги и кровати',\n",
       " 'Шкафы',\n",
       " 'Столы для кемпинга',\n",
       " 'Стулья и кресла для кемпинга',\n",
       " 'Туристические палатки',\n",
       " 'Бивуачные мешки',\n",
       " 'Гамаки',\n",
       " 'Экстремальные палатки',\n",
       " 'Кемпинговые палатки',\n",
       " 'Тенты и противомоскитные пологи',\n",
       " 'Аксессуары к палаткам',\n",
       " 'Рюкзаки для бега и мультиспорта',\n",
       " 'Спортивные рюкзаки',\n",
       " 'Велорюкзаки',\n",
       " 'Городские рюкзаки',\n",
       " 'Туристические рюкзаки',\n",
       " 'Альпинистские рюкзаки',\n",
       " 'Горнолыжные рюкзаки',\n",
       " 'Рюкзаки для переноски детей',\n",
       " 'Герморюкзаки',\n",
       " 'Фоторюкзаки',\n",
       " 'Аксессуары для рюкзаков',\n",
       " 'Детские рюкзаки',\n",
       " 'Одеяла',\n",
       " 'Аксессуары к спальным мешкам',\n",
       " 'Экстремальные спальные мешки',\n",
       " 'Подушки туристические',\n",
       " 'Туристические спальные мешки',\n",
       " 'Кемпинговые спальные мешки',\n",
       " 'Вкладыши в спальные мешки',\n",
       " 'Органайзеры для багажа',\n",
       " 'Аптечки',\n",
       " 'Гермоснаряжение',\n",
       " 'Кошельки',\n",
       " 'Сумки для города',\n",
       " 'Сумки на колесах',\n",
       " 'Поясные сумки',\n",
       " 'Футляры и чехлы',\n",
       " 'Баулы',\n",
       " 'Косметички',\n",
       " 'Фотосумки',\n",
       " 'Боксы',\n",
       " 'Вилки и ложки',\n",
       " 'Термосы',\n",
       " 'Сковороды',\n",
       " 'Кухонные принадлежности',\n",
       " 'Чайники и кофеварки',\n",
       " 'Походные кастрюли',\n",
       " 'Миски, тарелки',\n",
       " 'Фляги, канистры, ёмкости',\n",
       " 'Чашки, кружки, стаканы',\n",
       " 'Наборы туристической посуды',\n",
       " 'Туристические пенки',\n",
       " 'Аксессуары к коврикам и матрасам',\n",
       " 'Надувные коврики',\n",
       " 'Сидушки',\n",
       " 'Кемпинговые матрасы и коврики',\n",
       " 'Самонадувающиеся коврики']"
      ]
     },
     "execution_count": 17,
     "metadata": {},
     "output_type": "execute_result"
    }
   ],
   "source": [
    "# Создаем список целевых категорий, с вхождением в которые потом будем сравнивать ключи нашего словаря кластеров\n",
    "target_cat = df_markup['target_cat2_name'].tolist()\n",
    "target_cat"
   ]
  },
  {
   "cell_type": "code",
   "execution_count": null,
   "id": "007d5ffa-19b0-4ac4-8ae2-480144a1fefb",
   "metadata": {},
   "outputs": [],
   "source": [
    "#target_cat список целевых категорий\n",
    "#murkup_dict словарь разметки\n",
    "#product_clusters словарь uid : список сопутствующих uid\n",
    "#df "
   ]
  },
  {
   "cell_type": "code",
   "execution_count": 22,
   "id": "18b21393-7425-48f1-b9d2-c2a289e20f61",
   "metadata": {
    "tags": []
   },
   "outputs": [],
   "source": [
    "# Фильтрация товаров по категориям\n",
    "result = {}\n",
    "filtered_product_clusters = {}\n",
    "for cluster, products in product_clusters.items():\n",
    "    cluster_cat2 = df.loc[df['uid'] == cluster, 'category2_name'].iloc[0]\n",
    "    # Проверяем, что cluster_cat2 не равно None\n",
    "    if cluster_cat2 is not None:\n",
    "        # Проверяем, что ключ словаря - товар из целевой категории\n",
    "        if cluster_cat2 in target_cat:\n",
    "            filtered_products = []\n",
    "            for product in products:\n",
    "                # Проверяем, что значения для ключа - товары из размеченных категорий \n",
    "                # Получаем список названий категорий элемента из значений\n",
    "                prod_categories = df.loc[df['uid'] == product, 'category1_name':'category4_name'].values.flatten().tolist()\n",
    "                # Убиваем все нулевые уровни\n",
    "                prod_categories = list(filter(None, prod_categories))\n",
    "                # Сравниваем их с размеченными \n",
    "                for category in prod_categories:\n",
    "                    # Перебираем все оставшиеся ненулевые уровни иерархии \n",
    "                    if category in murkup_dict.get(cluster_cat2):        \n",
    "                        filtered_products.append(product)\n",
    "            result[cluster] = filtered_products\n",
    "    else:\n",
    "        print(f\"Для кластера {cluster} не найдена категория\")\n",
    "\n",
    "\n",
    "#Кажется, то что дальше нам не надо вообще. и надо брать result...\n",
    "# И не понятно, как это работало, почему апдейт вообще проходил, на каком моменте filtered_product_clusters записано??\n",
    "\n",
    "\n",
    "# Теперь обновляем product_clusters только с отфильтрованными товарами \n",
    "#product_clusters.update(filtered_product_clusters)"
   ]
  },
  {
   "cell_type": "code",
   "execution_count": 23,
   "id": "5bfbcda2-9100-485e-9eb0-3fc1737331a7",
   "metadata": {
    "tags": []
   },
   "outputs": [],
   "source": [
    "# Преобразование в JSON\n",
    "import json\n",
    "json_data = json.dumps(product_clusters, indent=4)\n",
    "\n",
    "# Запись JSON в файл\n",
    "with open('product_clusters.json', 'w') as json_file:\n",
    "    json_file.write(json_data)\n"
   ]
  },
  {
   "cell_type": "code",
   "execution_count": null,
   "id": "a02effef-317d-459c-9ae4-b615cef1c90e",
   "metadata": {},
   "outputs": [],
   "source": [
    "# проверка на вшивость всего файла. Делаем такой же json, толбко с названиями товаров и посмотрим внутрь."
   ]
  },
  {
   "cell_type": "code",
   "execution_count": null,
   "id": "155e2801-141c-48e6-aace-9cc2333d3ae7",
   "metadata": {},
   "outputs": [],
   "source": [
    "#target_cat список целевых категорий\n",
    "#murkup_dict словарь разметки\n",
    "#product_clusters словарь uid : список сопутствующих uid\n",
    "#df uid-название-иерархия-кластеры"
   ]
  },
  {
   "cell_type": "code",
   "execution_count": 25,
   "id": "d0dcbc9b-f596-470a-bf9f-38e8cb9328d1",
   "metadata": {},
   "outputs": [],
   "source": [
    "# Создаем пустой словарь для нового соответствия на основе названий товаров\n",
    "prod_clusters_names = {}\n",
    "\n",
    "# Проходим по каждой паре ключ-значение в словаре dict1\n",
    "for key, values in product_clusters.items():\n",
    "    # Находим соответствующее название товара по ключу в DataFrame\n",
    "    product_name = df.loc[df['uid'] == key, 'name'].iloc[0]\n",
    "    \n",
    "    # Находим названия товаров для значений\n",
    "    values_names = [df.loc[df['uid'] == value, 'name'].iloc[0] for value in values]\n",
    "    \n",
    "    # Добавляем соответствующую пару ключ-значение в новый словарь prod_clusters_names = {}\n",
    "\n",
    "    prod_clusters_names[product_name] = values_names\n",
    "#4053 sec  !! ужас как долго работает, надо делать через словарь может быть??? А не через обращения к датафрейму"
   ]
  },
  {
   "cell_type": "code",
   "execution_count": 28,
   "id": "fe707766-b58c-4555-889a-5e03230ef9be",
   "metadata": {},
   "outputs": [],
   "source": [
    "import json\n",
    "json_data = json.dumps(prod_clusters_names, ensure_ascii = False, indent=4)\n",
    "\n",
    "# Запись JSON в файл\n",
    "with open('product_clusters_names.json', 'w') as json_file:\n",
    "    json_file.write(json_data)\n"
   ]
  },
  {
   "cell_type": "code",
   "execution_count": null,
   "id": "dd2b4220-5275-4794-bb38-5cca7df0a7df",
   "metadata": {},
   "outputs": [],
   "source": []
  }
 ],
 "metadata": {
  "kernelspec": {
   "display_name": "Python 3 (ipykernel)",
   "language": "python",
   "name": "python3"
  },
  "language_info": {
   "codemirror_mode": {
    "name": "ipython",
    "version": 3
   },
   "file_extension": ".py",
   "mimetype": "text/x-python",
   "name": "python",
   "nbconvert_exporter": "python",
   "pygments_lexer": "ipython3",
   "version": "3.11.4"
  }
 },
 "nbformat": 4,
 "nbformat_minor": 5
}
