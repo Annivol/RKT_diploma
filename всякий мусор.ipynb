{
 "cells": [
  {
   "cell_type": "code",
   "execution_count": 4,
   "id": "5c30172d-e55a-4f0d-b3ce-7346c1d69fdd",
   "metadata": {
    "tags": []
   },
   "outputs": [
    {
     "name": "stderr",
     "output_type": "stream",
     "text": [
      "ERROR: Could not find a version that satisfies the requirement mpl_toolkits (from versions: none)\n",
      "ERROR: No matching distribution found for mpl_toolkits\n"
     ]
    }
   ],
   "source": [
    "!pip install mpl_toolkits\n"
   ]
  },
  {
   "cell_type": "code",
   "execution_count": 3,
   "id": "1c5bcd66-4d91-4d0b-8b72-68f2080833f0",
   "metadata": {
    "tags": []
   },
   "outputs": [],
   "source": [
    "import tensorflow"
   ]
  },
  {
   "cell_type": "code",
   "execution_count": null,
   "id": "3b5ae5f6-2774-4d55-91dd-9bc5e2224479",
   "metadata": {},
   "outputs": [],
   "source": [
    "from sklearn.decomposition import PCA\n",
    "import numpy as np\n",
    "import matplotlib\n",
    "import matplotlib.pyplot as plt\n",
    "import matplotlib.cm as cm\n",
    "from sklearn.preprocessing import StandardScaler\n",
    "from sklearn.metrics import roc_auc_score\n",
    "from sklearn.model_selection import train_test_split\n",
    "from sklearn.linear_model import LogisticRegressionCV\n",
    "\n",
    "def analyzePCA(X, pca, explained_threshold=0.95):\n",
    "    \"\"\"Plot cumulative explaned variance of PCA\"\"\"\n",
    "    pca.fit(X)\n",
    "    pca_variance = pca.explained_variance_ratio_\n",
    "    plt.figure(figsize=(15,7))\n",
    "    plt.plot(np.cumsum(pca_variance))\n",
    "    plt.hlines(explained_threshold, 0, len(pca_variance))\n",
    "    plt.title(\"Number of components to explain {}% of variance: {}\".format(\n",
    "        100*explained_threshold, np.argwhere(np.cumsum(pca_variance)>0.95)[0]\n",
    "    ))\n",
    "    plt.xlabel('number of components')\n",
    "    plt.ylabel('cumulative explained variance');\n",
    "\n",
    "# feats_lst = []\n",
    "# for i in feats_woe:\n",
    "#     if i.find('cross_') != 0:\n",
    "#         feats_lst.append(i)\n",
    "        \n",
    "scaler = StandardScaler()\n",
    "\n",
    "df_scaled = scaler.fit_transform(df.drop(['DDateRequest', 'demand_id1', 'RequestIDRR', 'NPL30'], axis = 1))\n",
    "\n",
    "pca = PCA()\n",
    "analyzePCA(df_scaled, pca)"
   ]
  }
 ],
 "metadata": {
  "kernelspec": {
   "display_name": "Python 3 (ipykernel)",
   "language": "python",
   "name": "python3"
  },
  "language_info": {
   "codemirror_mode": {
    "name": "ipython",
    "version": 3
   },
   "file_extension": ".py",
   "mimetype": "text/x-python",
   "name": "python",
   "nbconvert_exporter": "python",
   "pygments_lexer": "ipython3",
   "version": "3.11.4"
  }
 },
 "nbformat": 4,
 "nbformat_minor": 5
}
